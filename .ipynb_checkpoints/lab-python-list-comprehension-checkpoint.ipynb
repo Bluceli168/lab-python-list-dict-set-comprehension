{
 "cells": [
  {
   "cell_type": "markdown",
   "id": "25d7736c-ba17-4aff-b6bb-66eba20fbf4e",
   "metadata": {},
   "source": [
    "# Lab | List, Dict and Set Comprehension"
   ]
  },
  {
   "cell_type": "markdown",
   "id": "7dd3cbde-675a-4b81-92c3-f728846dbe06",
   "metadata": {},
   "source": [
    "## Exercise: Managing Customer Orders Optimized with Comprehension"
   ]
  },
  {
   "cell_type": "markdown",
   "id": "5d500160-2fb7-4777-b5e4-09d45ebaf328",
   "metadata": {},
   "source": [
    "In the previous exercise, you developed a program to manage customer orders and inventory. Now, let's take it a step further and incorporate comprehension into your code.\n",
    "\n",
    "Follow the steps below to complete the exercise:\n",
    "\n",
    "1. Review your code from the previous exercise and identify areas where you can apply comprehension to simplify and streamline your code. \n",
    "\n",
    "    - *Hint: Apply it to initialize inventory, updating the inventory and printing the updated inventory.*\n",
    "    \n",
    "    - For example, in initializing the inventory, we could have:\n",
    "    \n",
    "        ```python\n",
    "        def initialize_inventory(products):\n",
    "            inventory = {product: int(input(f\"Enter the quantity of {product}s available: \")) for product in products}\n",
    "            return inventory\n",
    "\n",
    "        ```\n",
    "<br>\n",
    "    \n",
    "    \n",
    "2. Modify the function get_customer_orders so it prompts the user to enter the number of customer orders and gathers the product names using a loop and user input. Use comprehension.\n",
    "\n",
    "3. Add a new function to calculate the total price of the customer order. For each product in customer_orders, prompt the user to enter the price of that product. Use comprehension to calculate the total price. Note: assume that the user can only have 1 unit of each product.\n",
    "\n",
    "4. Modify the update_inventory function to remove the product from the inventory if its quantity becomes zero after fulfilling the customer orders. Use comprehension to filter out the products with a quantity of zero from the inventory.\n",
    "\n",
    "5. Print the total price of the customer order.\n",
    "\n",
    "Your code should produce output similar to the following:\n",
    "\n",
    "```python\n",
    "Enter the quantity of t-shirts available:  5\n",
    "Enter the quantity of mugs available:  4\n",
    "Enter the quantity of hats available:  3\n",
    "Enter the quantity of books available:  2\n",
    "Enter the quantity of keychains available:  1\n",
    "Enter the number of customer orders:  2\n",
    "Enter the name of a product that a customer wants to order:  hat\n",
    "Enter the name of a product that a customer wants to order:  keychain\n",
    "\n",
    "Order Statistics:\n",
    "Total Products Ordered: 2\n",
    "Percentage of Unique Products Ordered: 40.0\n",
    "\n",
    "Updated Inventory:\n",
    "t-shirt: 5\n",
    "mug: 4\n",
    "hat: 2\n",
    "book: 2\n",
    "Enter the price of keychain:  5\n",
    "Enter the price of hat:  10\n",
    "Total Price: 15.0\n",
    "\n",
    "```\n"
   ]
  },
  {
   "cell_type": "code",
   "execution_count": 2,
   "id": "91376c05-d7f8-4a8e-a20c-5190dd6e8113",
   "metadata": {},
   "outputs": [
    {
     "name": "stdin",
     "output_type": "stream",
     "text": [
      "Enter the quantity of t-shirt available: 5\n",
      "Enter the quantity of mug available: 5\n",
      "Enter the quantity of hat available: 5\n",
      "Enter the quantity of book available: 5\n",
      "Enter the quantity of keychain available: 5\n",
      "for the product you want to order,pls only input one product name from:'t-shirt,mug,hat,book,keychain': mug\n",
      "do you want to order another product? pls reply yes or no yes\n",
      "pls input extra product name you want to order from:'t-shirt,mug,hat,book,keychain': book\n",
      "do you still want to order another product? pls reply yes or no no\n"
     ]
    },
    {
     "name": "stdout",
     "output_type": "stream",
     "text": [
      "Enter the name of a product that a customer wants to order: mug\n",
      "Enter the name of a product that a customer wants to order: book\n"
     ]
    },
    {
     "name": "stdin",
     "output_type": "stream",
     "text": [
      "pls input order qty for 'mug':(0 or 1): 1\n",
      "pls input order qty for 'book':(0 or 1): 0\n"
     ]
    },
    {
     "name": "stdout",
     "output_type": "stream",
     "text": [
      "Below are all product and qty you just ordered:\n",
      "{'mug': 1, 'book': 0}\n"
     ]
    },
    {
     "name": "stdin",
     "output_type": "stream",
     "text": [
      "Pls enter the USD unit price of t-shirt:  5\n",
      "Pls enter the USD unit price of mug:  5\n",
      "Pls enter the USD unit price of hat:  5\n",
      "Pls enter the USD unit price of book:  5\n",
      "Pls enter the USD unit price of keychain:  5\n"
     ]
    },
    {
     "name": "stdout",
     "output_type": "stream",
     "text": [
      "\n",
      "Order Statistics:\n",
      "Total Products Ordered: 1\n",
      "Percentage of Unique Products Ordered: 4.00%\n",
      "\n",
      "Updated Inventory:\n",
      "t-shirt: 5\n",
      "mug: 4\n",
      "hat: 5\n",
      "book: 5\n",
      "keychain: 5\n",
      "The total price of the customer order is: 5.0\n"
     ]
    }
   ],
   "source": [
    "products = [\"t-shirt\", \"mug\", \"hat\", \"book\", \"keychain\"] \n",
    "\n",
    "def initialize_inventory(products): \n",
    "    inventory = {product:int(input(f\"Enter the quantity of {product} available:\")) for product in products}\n",
    "    return inventory\n",
    "\n",
    "\n",
    "def get_customer_orders():\n",
    "    \n",
    "    customer_orders =[]\n",
    "    \n",
    "    while True:\n",
    "        user_input = input(f\"for the product you want to order,pls only input one product name from:'{','.join(products)}':\")\n",
    "        if user_input in products:\n",
    "            customer_orders.append(user_input)\n",
    "        else:\n",
    "            user_input = input(f\"product no found, pls re-input product name from:'{','.join(products)}':\")\n",
    "            customer_orders.append(user_input)\n",
    "        \n",
    "        if_order_more = input(f\"do you want to order another product? pls reply yes or no\")\n",
    "    \n",
    "        while if_order_more =='yes':\n",
    "            extra_user_input = input(f\"pls input extra product name you want to order from:'{','.join(products)}':\")\n",
    "            if extra_user_input in products:\n",
    "                 customer_orders.append(extra_user_input)\n",
    "            else:\n",
    "                extra_user_input = input(f\"product no found, pls re-input product name from:'{','.join(products)}':\")\n",
    "                customer_orders.append(extra_user_input)\n",
    "                \n",
    "            if_order_more = input(f\"do you still want to order another product? pls reply yes or no\")\n",
    "    \n",
    "        if if_order_more =='no':\n",
    "            break\n",
    "\n",
    "    [print(f\"Enter the name of a product that a customer wants to order: {item}\") for item in customer_orders]\n",
    "       \n",
    "    customer_orders = {item:0 for item in customer_orders}\n",
    "    \n",
    "    for key in customer_orders:\n",
    "        while True:\n",
    "            order_qty = int(input(f\"pls input order qty for '{key}':(0 or 1):\"))\n",
    "            if order_qty in [0,1]:\n",
    "                customer_orders[key]= order_qty\n",
    "                break\n",
    "            else:\n",
    "                print(\"Invalid quantity! Pls only enter 0 or 1.\")\n",
    "                \n",
    "        #customer_orders[key] = int(input(f\"pls input order qty for '{key}':\"))\n",
    "        \n",
    "    print(\"Below are all product and qty you just ordered:\") \n",
    "    print(customer_orders)\n",
    "    return customer_orders\n",
    "      \n",
    "def update_inventory(customer_orders,inventory): \n",
    "    updated_inventory={key: (inventory[key] - customer_orders[key] if key in customer_orders else inventory[key]) for key in inventory}\n",
    "    updated_inventory={key:value for key,value in updated_inventory.items() if value !=0}\n",
    "    return updated_inventory \n",
    "\n",
    "def calculate_order_statistic(customer_orders,products): \n",
    "    total_products_ordered=sum(customer_orders.values())\n",
    "    percentage_products_ordered = \"{:.2f}%\".format((total_products_ordered/sum(inventory.values()))*100)\n",
    "    return total_products_ordered,percentage_products_ordered\n",
    "        \n",
    "def print_order_statistics(total_products_ordered,percentage_products_ordered):\n",
    "    print()\n",
    "    print(\"Order Statistics:\")\n",
    "    print(f\"Total Products Ordered: {total_products_ordered}\")\n",
    "    print(f\"Percentage of Unique Products Ordered: {percentage_products_ordered}\")\n",
    "\n",
    "def print_updated_inventory(updated_inventory):\n",
    "    print()\n",
    "    print(\"Updated Inventory:\")\n",
    "    [print(f\"{key}: {value}\") for key,value in updated_inventory.items()]\n",
    "\n",
    "def calculate_total_price(customer_orders,inventory):\n",
    "    price_list ={item:0 for item in inventory}\n",
    "    price_list = {item:float(input(f\"Pls enter the USD unit price of {item}: \")) for item in inventory}\n",
    "\n",
    "    calculate_total_price =sum(price_list[key]*customer_orders[key] for key in customer_orders)\n",
    "    return calculate_total_price\n",
    "      \n",
    "inventory =initialize_inventory(products) \n",
    "customer_orders=get_customer_orders()\n",
    "updated_inventory = update_inventory(customer_orders,inventory)\n",
    "total_products_ordered,percentage_products_ordered=calculate_order_statistic(customer_orders,products)\n",
    "calculate_total_price=calculate_total_price(customer_orders,inventory)\n",
    "\n",
    "print_order_statistics(total_products_ordered,percentage_products_ordered)\n",
    "print_updated_inventory(updated_inventory)\n",
    "\n",
    "print (f\"The total price of the customer order is: {calculate_total_price}\")\n",
    "   "
   ]
  },
  {
   "cell_type": "code",
   "execution_count": null,
   "id": "f76508ac-067d-42c3-b7d5-38b9ff7e747b",
   "metadata": {},
   "outputs": [],
   "source": []
  }
 ],
 "metadata": {
  "kernelspec": {
   "display_name": "Python 3 (ipykernel)",
   "language": "python",
   "name": "python3"
  },
  "language_info": {
   "codemirror_mode": {
    "name": "ipython",
    "version": 3
   },
   "file_extension": ".py",
   "mimetype": "text/x-python",
   "name": "python",
   "nbconvert_exporter": "python",
   "pygments_lexer": "ipython3",
   "version": "3.12.4"
  }
 },
 "nbformat": 4,
 "nbformat_minor": 5
}
